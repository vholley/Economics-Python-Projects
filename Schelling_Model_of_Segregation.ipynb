{
 "cells": [
  {
   "cell_type": "markdown",
   "metadata": {},
   "source": [
    "## Schelling's  Model of Segregation\n",
    "Adapted from Frank McCown and Stanford's Nifty Assignments repository."
   ]
  },
  {
   "cell_type": "markdown",
   "metadata": {},
   "source": [
    "### Overview\n",
    "Racial segregation has always been a pernicious social problem in the United States. Although much effort has been extended to desegregate our schools, churches, and neighborhoods, the [US continues to remain segregated](https://tcf.org/content/commentary/racial-segregation-is-still-a-problem/) by race and economic lines. Why is segregation such a difficult problem to eradicate?\n",
    "\n",
    "In 1971, the American economist [Thomas Schelling](https://en.wikipedia.org/wiki/Thomas_Schelling) created an agent-based model that might help explain why segregation is so difficult to combat. His model of segregation showed that even when individuals (or \"agents\") didn't mind being surrounded or living by agents of a different race, they would still choose to segregate themselves from other agents over time! Although the model is quite simple, it gives a fascinating look at how individuals might self-segregate, even when they have no explicit desire to do so."
   ]
  },
  {
   "cell_type": "markdown",
   "metadata": {},
   "source": [
    "### How the Model Works\n",
    "\n",
    "Schelling's model will now be explained with some minor changes. Suppose there are two types of agents: X and O. The two types of agents might represent different races, ethnicity, economic status, etc. Two populations of the two agent types are initially placed into random locations of a neighborhood represented by a grid. After placing all the agents in the grid, each cell is either occupied by an agent or is empty as shown below. \n",
    "\n",
    "![alt text](http://www.cs.columbia.edu/~cannon/images/grid1.png \"Agents placed randomly\")\n",
    "\n",
    "Now we must determine if each agent is satisfied with its current location. A satisfied agent is one that is surrounded by at least a fraction *t* of agents that are like itself. This threshold *t* is one that will apply to all agents in the model, even though in reality everyone might have a different threshold they are satisfied with. Note that the higher the threshold, the higher the likelihood the agents will not be satisfied with their current location.\n",
    "\n",
    "For example, if *t = .3*, agent X is satisfied if at least 30% of its neighbors are also X. If fewer than 30% are X, then the agent is not satisfied, and it will want to change its location in the grid. For the remainder of this explanation, let's assume a threshold *t* of .3. This means every agent is fine with being in the minority as long as there are at least 30% of similar agents in adjacent cells.\n",
    "\n",
    "The picture below shows a satisfied agent because 50% of X's neighbors are also X (.5 > t). \n",
    "\n",
    "![alt text](http://www.cs.columbia.edu/~cannon/images/grid2.png \"Satisfied agent\") \n",
    "\n",
    "In the picture below, agent X is not satisfied because only 25% of its neighbors are X (.25 < t). Notice that in this example empty cells are not counted when calculating similarity.\n",
    "\n",
    "![alt text](http://www.cs.columbia.edu/~cannon/images/grid3.png \"Dissatisfied agent\")\n",
    "\n",
    "When an agent is not satisfied, it can be moved to any vacant location in the grid. Any algorithm can be used to choose this new location. For example, a randomly selected cell may be chosen, or the agent could move to the nearest available location.\n",
    "\n",
    "In the image below, all dissatisfied agents have an asterisk next to them. \n",
    "\n",
    "\n",
    "![alt text](http://www.cs.columbia.edu/~cannon/images/grid4.png \"Dissatisfied agents with asterisk\") \n",
    "\n",
    "The next image shows the new configuration after all the dissatisfied agents have been moved to unoccupied cells at random. Note that the new configuration may cause some agents which were previously satisfied to become dissatisfied! \n",
    "\n",
    "![alt text](http://www.cs.columbia.edu/~cannon/images/grid5.png \"New configuration\") \n",
    "\n",
    "All dissatisfied agents must be moved in the same round. After the round is complete, a new round begins, and dissatisfied agents are once again moved to new locations in the grid. These rounds continue until all agents in the neighborhood are satisfied with their location."
   ]
  },
  {
   "cell_type": "markdown",
   "metadata": {},
   "source": [
    "Consider the following parameters for the Schelling model:\n",
    "* grid size: tuple of integers (n,m)\n",
    "* fraction of population 1: float between 0 and 1.\n",
    "* fraction of vacant sites in the grid: float between 0 and 1.\n",
    "* tolerance: float between 0 and 1\n",
    "\n",
    "`start(grid_size,pop,vacancy)` creates and returns a 2-D numpy array of the appropriate size consisting of integers where each element of the array is assigned as follows:\n",
    "* part of first demographic:  1\n",
    "* part of second demographic: -1\n",
    "* vacant: 0"
   ]
  },
  {
   "cell_type": "code",
   "execution_count": null,
   "metadata": {},
   "outputs": [],
   "source": [
    "import numpy as np\n",
    "import matplotlib.pyplot as plt\n",
    "\n",
    "\n",
    "# NOTE: This function assumes that population and vacancy sites are proper fractions of the grid size.\n",
    "\n",
    "def start(grid_size, pop, vacancy):\n",
    "\n",
    "    # Set variable values for the first and second demographics, demographic_1 demographic_2\n",
    "    demographic_1 = 1\n",
    "    demographic_2 = -1\n",
    "    \n",
    "    # Calcultate the array length using grid_size, array_length\n",
    "    array_length = grid_size[0] * grid_size[1]\n",
    "    \n",
    "    # Create a NumPy array of zeroes with length array_length, pop_array\n",
    "    pop_array = np.zeros(array_length)\n",
    "    \n",
    "    # Calculate the number of agents in the first demographic by multiplying array_length by pop, demographic_1_pop\n",
    "    demographic_1_pop = array_length * pop\n",
    "    \n",
    "    # Calculate the number of vacancy sites by multiply array_length by vacancy, vacancy_sites\n",
    "    vacancy_sites = array_length * vacancy\n",
    "    \n",
    "    # Calculate the number of agents in the second demographic from the remaining elements in array_length, demographic_2_pop\n",
    "    demographic_2_pop = array_length * (1 - pop) - vacancy_sites\n",
    "    \n",
    "    # Fill pop_array with 1 for each of the first demographic population\n",
    "    for i in range(int(demographic_1_pop)):\n",
    "        pop_array[i] = 1\n",
    "    \n",
    "    # Fill pop_array with -1 for each of the second demographic population\n",
    "    for i in range(1, int(demographic_2_pop + 1)):\n",
    "        pop_array[-i] = -1\n",
    "        \n",
    "    # Randomize pop_array\n",
    "    np.random.shuffle(pop_array)\n",
    "    \n",
    "    # Change pop_array to the grid_size dimensions, schelling_grid\n",
    "    arr = np.reshape(pop_array, grid_size)\n",
    "    \n",
    "    \n",
    "    return arr"
   ]
  },
  {
   "cell_type": "code",
   "execution_count": null,
   "metadata": {},
   "outputs": [],
   "source": [
    "# Test the start function\n",
    "grid = start((4, 5), .5, .2)\n",
    "print(grid)\n",
    "\n",
    "\n",
    "plt.matshow(grid, cmap='jet')\n",
    "plt.show()\n"
   ]
  },
  {
   "cell_type": "markdown",
   "metadata": {},
   "source": [
    "`next_round(arr,tolerance)` takes as input an *n by m* array and returns a new 2-D array one step in the future where all dissatisfied agents have been moved. Remember, since there may be more dissatisfied agents than vacancies in the grid, they need to move one at a time, this way each time an agent is randomly assigned to a vacant site, a vacancy at a new location is created."
   ]
  },
  {
   "cell_type": "code",
   "execution_count": null,
   "metadata": {},
   "outputs": [],
   "source": [
    "def next_round(arr, tolerance):\n",
    "\n",
    "    # Create variables for the number of rows and columns in arr, arr_row arr_columns\n",
    "    arr_rows = arr.shape[0]\n",
    "\n",
    "    arr_columns = arr.shape[1]\n",
    "\n",
    "\n",
    "    # Create a list containing the coordinates of dissatisfied agents as tuples, dissatisfied_list\n",
    "    dissatisfied_list = []\n",
    "\n",
    "    # Create a lambda function which creates a list containing the coordinates of each neighbor, find_neighbors\n",
    "    # This is generalized to any grid size\n",
    "    find_neighbors = lambda row, column : [(neighbor_row, neighbor_column) for neighbor_row in range(row-1, row+2)\n",
    "                                           for neighbor_column in range(column-1, column+2)\n",
    "                                           if (-1 < row < arr_rows and\n",
    "                                           -1 < column < arr_columns and\n",
    "                                           (row != neighbor_row or column != neighbor_column) and\n",
    "                                           (0 <= neighbor_row < arr_rows) and\n",
    "                                           (0 <= neighbor_column < arr_columns))]\n",
    "\n",
    "\n",
    "    # Iterrate through each row and column of the grid\n",
    "    for agent_row in range(0, arr_rows):\n",
    "        for agent_column in range(0, arr_columns):\n",
    "\n",
    "            # Create a variable to count the number of neighbors of the same type as the agent, same_count\n",
    "            same_count = 0\n",
    "\n",
    "            # Ignore vacancies\n",
    "            if arr[agent_row, agent_column] != 0:\n",
    "\n",
    "                # Check the values of the neighbors for each coordinate of the grid\n",
    "                for neighbor in find_neighbors(agent_row, agent_column):\n",
    "\n",
    "                    # If the neighbor is the same type as the agent, increase same_count by 1\n",
    "                    if arr[neighbor] == arr[agent_row, agent_column]:\n",
    "                        same_count += 1\n",
    "\n",
    "                # Check if the percentage of like neighbors is below the tolerance threshold\n",
    "                if same_count / len(find_neighbors(agent_row, agent_column)) < tolerance:\n",
    "                    # Apend the agent coordinates to dissatisfied_list if they are below the tolerance threshold\n",
    "                    dissatisfied_list.append((agent_row, agent_column))\n",
    "\n",
    "\n",
    "    # Move the dissatisfied agents to vacant spaces in the grid\n",
    "    for agent_coordinates in dissatisfied_list:\n",
    "        # Create random coordinates within the arr grid, random_row random_column\n",
    "        random_row = np.random.randint(0, arr_rows)\n",
    "        random_column = np.random.randint(0, arr_columns)\n",
    "\n",
    "        # The random coordinates need to have a value of zero (vacant)\n",
    "        while arr[random_row, random_column] != 0:\n",
    "            # Re-randomize the coordinates if they are not vacant\n",
    "            random_row = np.random.randint(0, arr_rows)\n",
    "            random_column = np.random.randint(0, arr_columns)\n",
    "\n",
    "        # Replace the vacant space with the value of the agent\n",
    "        arr[random_row, random_column] = arr[agent_coordinates]\n",
    "\n",
    "        # Set the starting agent coordinates to zero (vacant)\n",
    "        arr[agent_coordinates] = 0\n",
    "\n",
    "    return arr\n"
   ]
  },
  {
   "cell_type": "code",
   "execution_count": null,
   "metadata": {},
   "outputs": [],
   "source": [
    "# Test the next_round function\n",
    "arr = start((5, 5), 0.20, 0.40)\n",
    "tolerance = 0.20\n",
    "\n",
    "print(arr)\n",
    "print('')\n",
    "print(next_round(arr, tolerance))\n"
   ]
  },
  {
   "cell_type": "code",
   "execution_count": null,
   "metadata": {},
   "outputs": [],
   "source": [
    "# Visual example of next_round\n",
    "a = np.ones((4, 5))\n",
    "a[2:4] = -1\n",
    "a[1:3, 0:2] = 0\n",
    "plt.matshow(a, cmap='jet')\n",
    "plt.show()\n",
    "\n",
    "b = next_round(a, .6)\n",
    "plt.matshow(b, cmap='jet')\n",
    "plt.show()\n"
   ]
  },
  {
   "cell_type": "markdown",
   "metadata": {},
   "source": [
    "`make_list(n)` returns a list of *n* numpy arrays where the first array is created using `start` and the second using `next_round` on the first array and the third using `next_round` on the second, and so on. "
   ]
  },
  {
   "cell_type": "code",
   "execution_count": null,
   "metadata": {},
   "outputs": [],
   "source": [
    "def make_list(n, grid_size, pop, vacancy, tolerance):\n",
    "\n",
    "    # Create a list of numpy arrays, schelling_grid_list\n",
    "    schelling_grid_list = []\n",
    "\n",
    "    # Create a 2-D numpy array using the start function, arr\n",
    "    arr = start(grid_size, pop, vacancy)\n",
    "\n",
    "    # Append the array to schelling_grid_list\n",
    "    schelling_grid_list.append(arr)\n",
    "\n",
    "    next_arr = np.copy(arr)\n",
    "\n",
    "    # Repeat the next_round function to create the remaining number of arrays\n",
    "    for i in range(1, n):\n",
    "\n",
    "        # Append the array to schelling_grid_list\n",
    "        schelling_grid_list.append(next_arr)\n",
    "\n",
    "        # Move the dissatisfied agents\n",
    "        next_arr = np.copy(next_round(next_arr, tolerance))\n",
    "\n",
    "    return schelling_grid_list\n"
   ]
  },
  {
   "cell_type": "code",
   "execution_count": null,
   "metadata": {},
   "outputs": [],
   "source": [
    "# Test the make_list function\n",
    "test = make_list(4, (5, 5), .20, .40, .20)\n",
    "\n",
    "print(test)\n",
    "\n",
    "for mat in test:\n",
    "    plt.matshow(mat, cmap='jet')\n",
    "    plt.show()\n"
   ]
  },
  {
   "cell_type": "markdown",
   "metadata": {},
   "source": [
    "__Test Code__\n"
   ]
  },
  {
   "cell_type": "code",
   "execution_count": null,
   "metadata": {},
   "outputs": [],
   "source": [
    "n = 100\n",
    "grid_size = (30, 30)\n",
    "pop = 0.5\n",
    "vacancy = 0.1\n",
    "tolerance = 0.3\n",
    "\n",
    "make_list(n, grid_size, pop, vacancy, tolerance)\n"
   ]
  },
  {
   "cell_type": "code",
   "execution_count": null,
   "metadata": {},
   "outputs": [],
   "source": [
    "tolerance = .6\n",
    "\n",
    "# first pick the number of frames. This is the same as the length of \n",
    "# the list of grids you are making.\n",
    "n_frames = 40\n",
    "# next make the list\n",
    "grids = make_list(n_frames, (30, 30), .5, .1, tolerance)\n",
    "\n",
    "#here we set up the initial colorbar figure\n",
    "fig, ax = plt.subplots()\n",
    "matrix = ax.matshow(grids[0], cmap='jet')\n",
    "plt.colorbar(matrix)"
   ]
  }
 ],
 "metadata": {
  "kernelspec": {
   "display_name": "Python 3",
   "language": "python",
   "name": "python3"
  },
  "language_info": {
   "codemirror_mode": {
    "name": "ipython",
    "version": 3
   },
   "file_extension": ".py",
   "mimetype": "text/x-python",
   "name": "python",
   "nbconvert_exporter": "python",
   "pygments_lexer": "ipython3",
   "version": "3.7.6"
  }
 },
 "nbformat": 4,
 "nbformat_minor": 2
}
