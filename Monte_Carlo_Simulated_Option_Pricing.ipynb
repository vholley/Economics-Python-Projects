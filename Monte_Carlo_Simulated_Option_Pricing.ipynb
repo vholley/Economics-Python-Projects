{
 "cells": [
  {
   "cell_type": "markdown",
   "metadata": {},
   "source": [
    "## Option Pricing Using Monte Carlo Simulation"
   ]
  },
  {
   "cell_type": "markdown",
   "metadata": {},
   "source": [
    "Generate $n$ _iid_ Bernoulli $(p)$ random variables $B_1, ..., B_n$ and use as the estimate $$ \\hat{p}= \\frac{1}{n}\\sum_{i=1}^{n}B_i $$ "
   ]
  },
  {
   "cell_type": "code",
   "execution_count": 1,
   "metadata": {},
   "outputs": [],
   "source": [
    "# This function generates a list of n trials of Bernoulli random variables with probability distribution p\n",
    "\n",
    "import random\n",
    "\n",
    "\n",
    "def bernoulli_list(p, n):\n",
    "    rv_list = []\n",
    "    \n",
    "    while len(rv_list) < n:\n",
    "        U = random.random()\n",
    "        \n",
    "        if U <=p:\n",
    "            rv_list.append(1)\n",
    "        else:\n",
    "            rv_list.append(0)\n",
    "            \n",
    "    return rv_list"
   ]
  },
  {
   "cell_type": "code",
   "execution_count": 2,
   "metadata": {},
   "outputs": [
    {
     "name": "stdout",
     "output_type": "stream",
     "text": [
      "[0, 0, 1, 1, 1, 0, 0, 0, 0, 1]\n"
     ]
    }
   ],
   "source": [
    "# Test the bernoulli_list function\n",
    "\n",
    "print(bernoulli_list(0.5, 10))"
   ]
  },
  {
   "cell_type": "code",
   "execution_count": 3,
   "metadata": {},
   "outputs": [],
   "source": [
    "# This function estimates the probability (p_hat) of an event occuring from a list of Bernoulli random variables with\n",
    "# probability distrubtion p and n trials\n",
    "\n",
    "def bernoulli_est(p, n):\n",
    "    \n",
    "    rv_list = bernoulli_list(p, n)\n",
    "\n",
    "    n = len(rv_list)\n",
    "\n",
    "    rv_sum = sum(rv_list)\n",
    "\n",
    "    p_hat = rv_sum / n\n",
    "\n",
    "    return p_hat"
   ]
  },
  {
   "cell_type": "code",
   "execution_count": 4,
   "metadata": {},
   "outputs": [
    {
     "name": "stdout",
     "output_type": "stream",
     "text": [
      "0.52\n"
     ]
    }
   ],
   "source": [
    "# Caculate the probability estimate for a distribution with probability p=0.5 and observations n=100\n",
    "print(bernoulli_est(0.5, 100))"
   ]
  },
  {
   "cell_type": "code",
   "execution_count": 5,
   "metadata": {},
   "outputs": [
    {
     "name": "stdout",
     "output_type": "stream",
     "text": [
      "0.509\n"
     ]
    }
   ],
   "source": [
    "# Caculate the probability estimate for a distribution with probability p=0.5 and observations n=1000\n",
    "print(bernoulli_est(0.5, 1000))"
   ]
  },
  {
   "cell_type": "code",
   "execution_count": 6,
   "metadata": {},
   "outputs": [
    {
     "name": "stdout",
     "output_type": "stream",
     "text": [
      "0.4995\n"
     ]
    }
   ],
   "source": [
    "# Caculate the probability estimate for a distribution with probability p=0.5 and observations n=10000\n",
    "print(bernoulli_est(0.5, 10000))"
   ]
  },
  {
   "cell_type": "code",
   "execution_count": 7,
   "metadata": {},
   "outputs": [
    {
     "name": "stdout",
     "output_type": "stream",
     "text": [
      "0.81\n"
     ]
    }
   ],
   "source": [
    "# Caculate the probability estimate for a distribution with probability p=0.75 and observations n=100\n",
    "print(bernoulli_est(0.75, 100))"
   ]
  },
  {
   "cell_type": "code",
   "execution_count": 8,
   "metadata": {},
   "outputs": [
    {
     "name": "stdout",
     "output_type": "stream",
     "text": [
      "0.762\n"
     ]
    }
   ],
   "source": [
    "# Caculate the probability estimate for a distribution with probability p=0.75 and observations n=1000\n",
    "print(bernoulli_est(0.75, 1000))"
   ]
  },
  {
   "cell_type": "code",
   "execution_count": 9,
   "metadata": {},
   "outputs": [
    {
     "name": "stdout",
     "output_type": "stream",
     "text": [
      "0.7466\n"
     ]
    }
   ],
   "source": [
    "# Caculate the probability estimate for a distribution with probability p=0.75 and observations n=10000\n",
    "print(bernoulli_est(0.75, 10000))"
   ]
  },
  {
   "cell_type": "markdown",
   "metadata": {},
   "source": [
    "Recall the formula for computing the price $C_0$ of an option (derivative of the BLM stock prices) That yields a payoff at time $T$, denote by $C_T$:\n",
    "$$ C_0 = \\frac{1}{(1+r)^T}E^*(C_T), $$  \n",
    "\n",
    "where $*$ refers to the fact that we must use the value $p^*$ instead of the original (real) $P$ for the up/down probability of the BLM. (The real value of $P$ is not needed for priciing.) Also recall that for $C_T = (S_T - K)^+$, the European call option, the expected value, $E^*(S_T-K)^+$ can be computed explicitly yielding the famous Black-Scholes-Merton option pricing formula:  \n",
    "$$ C_0 = \\frac{1}{(1+r)^T}\\sum_{k=0}^{T} \\left( \\begin{array}{c}\n",
    "T \\\\ k  \\end{array} \\right )(p^*)^k(1-p^*)^{T-k}(u^k d^{T-k}S_0-K)^+ . $$  \n",
    "\n",
    "$$ p^* = \\frac{1+r-d}{u-d} . $$  \n",
    "\n",
    "For the Monte Carlo, use $n=100, n=1000, n=10,000$ _iid_ copies of $C_T$ (for averaging) to see how it gets more accurate as $n$ increases."
   ]
  },
  {
   "cell_type": "code",
   "execution_count": 10,
   "metadata": {},
   "outputs": [],
   "source": [
    "import random\n",
    "\n",
    "# Parameters\n",
    "T = 10  # Time\n",
    "r = 0.05  # Risk-free rate\n",
    "u = 1.15\n",
    "d = 1.01\n",
    "p = 0.05\n",
    "S_0 = 50  # Stock price\n",
    "K = 70  # Strike price\n",
    "\n",
    "\n",
    "# This function generates a Y random variable (u or d) used in the Binomial Lattice Model\n",
    "\n",
    "def Y_rv(p, u, d):\n",
    "    U = random.random()\n",
    "\n",
    "    if U <= p:\n",
    "        return u\n",
    "    else:\n",
    "        return d"
   ]
  },
  {
   "cell_type": "code",
   "execution_count": 11,
   "metadata": {},
   "outputs": [],
   "source": [
    "# This function simulates one path of a Binomial Lattice Model up to time T\n",
    "# BLMpath represents the day-by-day changes to a price of a stock\n",
    "def blm_path(T, u, d, p, S_0):\n",
    "    \n",
    "    #Initialize an empty array for the stock value at each discrete time interval, blm_path\n",
    "    blm_path = [0 for k in range(T + 1)]\n",
    "\n",
    "    #Set the first entry to our initial stock value (S_0)\n",
    "    blm_path[0] = S_0\n",
    "\n",
    "    #Generate our path by sampling from Y one at a time\n",
    "    for k in range(1, T + 1):\n",
    "        blm_path[k] = blm_path[k - 1] * Y_rv(p, u, d)\n",
    "\n",
    "    return blm_path"
   ]
  },
  {
   "cell_type": "code",
   "execution_count": 12,
   "metadata": {},
   "outputs": [],
   "source": [
    "# This function uses a Monte Carlo simulation of Binomial Lattice Model paths, with n iid itterations, to calculate the \n",
    "# price of an option\n",
    "def blm_mc(T, r, u, d, S_0, K, n):\n",
    "    # Calculate p_star, p_star\n",
    "    p_star = (1 + r - d) / (u - d)\n",
    "    \n",
    "    # Initialize the sum of the last node on the Binomial Lattice Model paths, sum_value\n",
    "    sum_value = 0\n",
    "    \n",
    "    # Simulate BLM paths and calculate the option price n times\n",
    "    for i in range(n):\n",
    "        # The simulated stock value is the stock value at time T, stock_value\n",
    "        stock_value = blm_path(T, u, d, p_star, S_0)[-1]\n",
    "        \n",
    "        # Calculate the option value by subtracting the stock value at T by the strike price, C_T\n",
    "        C_T = stock_value - K\n",
    "        \n",
    "        # Sum the option prices for averaging\n",
    "        sum_value += C_T\n",
    "        \n",
    "    # Divide sum_value by n to receive an average value of the option value, avg_value\n",
    "    avg_value = sum_value / n\n",
    "    \n",
    "    # Calculate the option price at time 0 by dividing the average option value by the discount, C_0\n",
    "    C_0 = (1 / (1 + r)**T) * avg_value\n",
    "    \n",
    "    return C_0"
   ]
  },
  {
   "cell_type": "code",
   "execution_count": 13,
   "metadata": {},
   "outputs": [
    {
     "name": "stdout",
     "output_type": "stream",
     "text": [
      "5.759834690027413\n"
     ]
    }
   ],
   "source": [
    "# Simulate the Binomial Lattice Model 100 times\n",
    "print(blm_mc(T, r, u, d, S_0, K, 100))"
   ]
  },
  {
   "cell_type": "code",
   "execution_count": 14,
   "metadata": {},
   "outputs": [
    {
     "name": "stdout",
     "output_type": "stream",
     "text": [
      "7.304002234725253\n"
     ]
    }
   ],
   "source": [
    "# Simulate the Binomial Lattice Model 1000 times\n",
    "print(blm_mc(T, r, u, d, S_0, K, 1000))"
   ]
  },
  {
   "cell_type": "code",
   "execution_count": 15,
   "metadata": {},
   "outputs": [
    {
     "name": "stdout",
     "output_type": "stream",
     "text": [
      "7.0230138667757185\n"
     ]
    }
   ],
   "source": [
    "# Simulate the Binomial Lattice Model 10000 times\n",
    "print(blm_mc(T, r, u, d, S_0, K, 10000))"
   ]
  },
  {
   "cell_type": "code",
   "execution_count": 16,
   "metadata": {},
   "outputs": [],
   "source": [
    "import math\n",
    "\n",
    "# This formula\n",
    "\n",
    "def black_scholes_merton(T, r, u, d, S_0, K):\n",
    "    # Calculate p_star, p_star\n",
    "    p_star = (1 + r - d) / (u - d)\n",
    "    \n",
    "    # Sum the value from 0 to T, sum\n",
    "    sum = 0\n",
    "    \n",
    "    # Sum from 0 to T\n",
    "    for k in range(T+1):\n",
    "        sum += (math.factorial(T) / (math.factorial(k) * math.factorial(T - k))) * p_star**k * (1 - p_star)**(T - k) *\\\n",
    "                (u**k * d**(T - k) * S_0 - K)\n",
    "        \n",
    "    # Calculate the option price by dividing sum by the discount, C_0\n",
    "    C_0 = (1 / (1 + r)**T) * sum\n",
    "    \n",
    "    return C_0"
   ]
  },
  {
   "cell_type": "code",
   "execution_count": 17,
   "metadata": {},
   "outputs": [
    {
     "name": "stdout",
     "output_type": "stream",
     "text": [
      "7.026072252146863\n"
     ]
    }
   ],
   "source": [
    "# Test the black_scholes_merton function\n",
    "print(black_scholes_merton(T, r, u, d, S_0, K))"
   ]
  },
  {
   "cell_type": "markdown",
   "metadata": {},
   "source": [
    "__Asian Call Option:__ The payoff $C_T$ at atime $T$ is based on the average value of the stock over the $T$ time units:\n",
    "$$ C_T = \\left( \\frac{1}{T} \\sum_{i=1}^{T} S_i-K \\right)^+ $$  \n",
    "\n",
    "Use $n=100, n=1000, n=10,000$ _iid_ copies of $C_T$ (for averaging)."
   ]
  },
  {
   "cell_type": "code",
   "execution_count": 18,
   "metadata": {},
   "outputs": [],
   "source": [
    "# Parameters\n",
    "T = 10  # Time\n",
    "r = 0.05  # Risk-free rate\n",
    "u = 1.15\n",
    "d = 1.01\n",
    "S_0 = 50  # Stock price\n",
    "K = 70  # Strike price\n",
    "\n",
    "# This function calculates the price of Asian call options using Binomial Lattice Model path simulation, and averages the\n",
    "# stock price n times\n",
    "\n",
    "def asian_call(T, r, u, d, S_0, K, n):\n",
    "    # Calculate p_star\n",
    "    p_star = (1 + r - d) / (u - d)\n",
    "    \n",
    "    # Initialize the sum of the totals of the Binomial Lattice Model paths, sum_value\n",
    "    sum_total = 0\n",
    "\n",
    "    # Simulate BLM paths n times, sum all of the nodes, and divide by T\n",
    "    for i in range(n):\n",
    "        \n",
    "        # Sum the BLM simulated stock values at each time interval, blm_sum\n",
    "        blm_sum = sum(blm_path(T, u, d, p_star, S_0))\n",
    "        \n",
    "        # Calculate the average Asian stock value over T by dividing the summed stock values by T, S_T\n",
    "        S_T = blm_sum / T\n",
    "    \n",
    "        # Calculate the Asian call option price by subtracting the average stock value by the strike price, C_T\n",
    "        C_T = S_T - K\n",
    "    \n",
    "        # sum the totals of the Asian stock values to find the average\n",
    "        sum_total += C_T\n",
    "        \n",
    "    # Calculate the average option price by dividing the sum_total by n, avg_value\n",
    "    avg_value = sum_total / n\n",
    "        \n",
    "    return avg_value"
   ]
  },
  {
   "cell_type": "code",
   "execution_count": 19,
   "metadata": {
    "scrolled": true
   },
   "outputs": [
    {
     "name": "stdout",
     "output_type": "stream",
     "text": [
      "-1.0838878538979646\n"
     ]
    }
   ],
   "source": [
    "# Simulate the Asian call option pricing 100 times\n",
    "print(asian_call(T, r, u, d, S_0, K, 100))"
   ]
  },
  {
   "cell_type": "code",
   "execution_count": 20,
   "metadata": {},
   "outputs": [
    {
     "name": "stdout",
     "output_type": "stream",
     "text": [
      "1.0623522243867591\n"
     ]
    }
   ],
   "source": [
    "# Simulate the Asian call option pricing 1000 times\n",
    "print(asian_call(T, r, u, d, S_0, K, 1000))"
   ]
  },
  {
   "cell_type": "code",
   "execution_count": 21,
   "metadata": {},
   "outputs": [
    {
     "name": "stdout",
     "output_type": "stream",
     "text": [
      "1.0338101742929227\n"
     ]
    }
   ],
   "source": [
    "# Simulate the Asian call option pricing 10000 times\n",
    "print(asian_call(T, r, u, d, S_0, K, 10000))"
   ]
  },
  {
   "cell_type": "markdown",
   "metadata": {},
   "source": [
    "__Barrier Option:__ \n",
    "\n",
    "$$ C_T = (S_T -K)^+ I \\{ S_{n_1} \\geq b, S_{n_2} \\geq b \\}.$$ \n",
    "\n",
    "Use $n=100, n=1000, n=10,000$ _iid_ copies of $C_T$ (for averaging).\n",
    "\n",
    "In the above, recall that for any event $A$, $I\\{A\\}$ denotes the _indicator_ random variable defined by  \n",
    "$$ I\\{A\\} = \\left\\{ \\begin{array}{ll} 1 & \\mbox{if $A$ occurs,} \\\\ 0 & \\mbox{if $A$ does not occur.} \\end{array} \\right. $$\n",
    "\n",
    "  \n",
    "Here, $A = \\{S_{n_1} \\geq b, S_{n_2} \\geq b\\}$.\n"
   ]
  },
  {
   "cell_type": "code",
   "execution_count": 22,
   "metadata": {},
   "outputs": [],
   "source": [
    "# Parameters\n",
    "T = 10  # Time\n",
    "r = 0.05  # Risk-free rate\n",
    "u = 1.15\n",
    "d = 1.01\n",
    "S_0 = 50  # Stock price\n",
    "K = 70  # Strike price\n",
    "n_1 = 4  # first barrier time\n",
    "n_2 = 6  # second barrier time\n",
    "b = 66  # barrier price\n",
    "\n",
    "# This function calculates the price of barrier options, with parameters n_1, n_2, and b, using Binomial Lattice Model path \n",
    "# simulation, and averages the stock price n times\n",
    "\n",
    "def barrier_option(T, r, u, d, S_0, K, n_1, n_2, b, n):\n",
    "    # Calculate p_star\n",
    "    p_star = (1 + r - d) / (u - d)\n",
    "\n",
    "    # Initialize the sum of the last node on the Binomial Lattice Model paths, sum_value\n",
    "    sum_value = 0\n",
    "\n",
    "    # Simulate BLM paths n times and sum up the final value\n",
    "    for i in range(n):\n",
    "        # Create a list of the simulated BLM path\n",
    "        blm_nodes = blm_path(T, u, d, p_star, S_0)\n",
    "\n",
    "        S_T = blm_nodes[-1]\n",
    "\n",
    "        option_price = S_T - K\n",
    "\n",
    "        # Check that the stock values at times n_1 and n_2 are above the barrier price\n",
    "        # If either of the stock values are below b, the option price is zero\n",
    "        if blm_nodes[n_1] < b or blm_nodes[n_2] < b:\n",
    "            option_price = 0\n",
    "\n",
    "        sum_value += option_price\n",
    "\n",
    "    # Divide sum_value by n to receive an average value of the option prices, avg_value       \n",
    "    avg_value = sum_value / n\n",
    "\n",
    "    return avg_value"
   ]
  },
  {
   "cell_type": "code",
   "execution_count": 23,
   "metadata": {},
   "outputs": [
    {
     "name": "stdout",
     "output_type": "stream",
     "text": [
      "7.415860505859539\n"
     ]
    }
   ],
   "source": [
    "# Simulate the barrier option pricing 100 times\n",
    "print(barrier_option(T, r, u, d, S_0, K, n_1, n_2, b, 100))"
   ]
  },
  {
   "cell_type": "code",
   "execution_count": 24,
   "metadata": {},
   "outputs": [
    {
     "name": "stdout",
     "output_type": "stream",
     "text": [
      "8.184419090411623\n"
     ]
    }
   ],
   "source": [
    "# Simulate the barrier option pricing 1000 times\n",
    "print(barrier_option(T, r, u, d, S_0, K, n_1, n_2, b, 1000))"
   ]
  },
  {
   "cell_type": "code",
   "execution_count": 25,
   "metadata": {},
   "outputs": [
    {
     "name": "stdout",
     "output_type": "stream",
     "text": [
      "7.613178638447524\n"
     ]
    }
   ],
   "source": [
    "# Simulate the barrier option pricing 10000 times\n",
    "print(barrier_option(T, r, u, d, S_0, K, n_1, n_2, b, 10000))"
   ]
  },
  {
   "cell_type": "code",
   "execution_count": null,
   "metadata": {},
   "outputs": [],
   "source": []
  }
 ],
 "metadata": {
  "anaconda-cloud": {},
  "kernelspec": {
   "display_name": "Python 3",
   "language": "python",
   "name": "python3"
  },
  "language_info": {
   "codemirror_mode": {
    "name": "ipython",
    "version": 3
   },
   "file_extension": ".py",
   "mimetype": "text/x-python",
   "name": "python",
   "nbconvert_exporter": "python",
   "pygments_lexer": "ipython3",
   "version": "3.7.4"
  }
 },
 "nbformat": 4,
 "nbformat_minor": 1
}
